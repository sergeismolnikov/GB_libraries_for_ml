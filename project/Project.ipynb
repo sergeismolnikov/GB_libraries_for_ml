{
 "cells": [
  {
   "cell_type": "code",
   "execution_count": 1,
   "id": "0fbb5af7",
   "metadata": {},
   "outputs": [],
   "source": [
    "%config Completer.use_jedi = False"
   ]
  },
  {
   "cell_type": "markdown",
   "id": "77e85d65",
   "metadata": {},
   "source": [
    "## Dataset info"
   ]
  },
  {
   "cell_type": "markdown",
   "id": "a40e77da",
   "metadata": {},
   "source": [
    "Постановка задачи\n",
    "Требуется на основании демографических данных о клиентах банка, истории их платежей и состоянии счета, предсказать невыполнение их обязательств по кредитной карте в следующем месяце.\n",
    "\n",
    "Описание датасета\n",
    "\n",
    "* **Home Ownership** - домовладение\n",
    "* **Annual Income** - годовой доход\n",
    "* **Years in current job** - количество лет на текущем месте работы\n",
    "* **Tax Liens** - налоговые обременения\n",
    "* **Number of Open Accounts** - количество открытых счетов\n",
    "* **Years of Credit History** - количество лет кредитной истории\n",
    "* **Maximum Open Credit** - наибольший открытый кредит\n",
    "* **Number of Credit Problems** - количество проблем с кредитом\n",
    "* **Months since last delinquent** - количество месяцев с последней просрочки платежа\n",
    "* **Bankruptcies** - банкротства\n",
    "* **Purpose** - цель кредита\n",
    "* **Term** - срок кредита\n",
    "* **Current Loan Amount** - текущая сумма кредита\n",
    "* **Current Credit Balance** - текущий кредитный баланс\n",
    "* **Monthly Debt** - ежемесячный долг\n",
    "* **Credit Default** - факт невыполнения кредитных обязательств (0 - погашен вовремя, 1 - просрочка)"
   ]
  },
  {
   "cell_type": "markdown",
   "id": "7ae39d1c",
   "metadata": {},
   "source": [
    "#### Import necessary libraries "
   ]
  },
  {
   "cell_type": "code",
   "execution_count": 212,
   "id": "88b399fe",
   "metadata": {},
   "outputs": [],
   "source": [
    "import matplotlib as mpl\n",
    "import matplotlib.pyplot as plt\n",
    "import matplotlib.pyplot as plt\n",
    "import numpy as np\n",
    "import pandas as pd\n",
    "import scipy\n",
    "import sklearn\n",
    "import matplotlib as mpl\n",
    "import matplotlib.pyplot as plt\n",
    "import seaborn as sns\n",
    "from sklearn import preprocessing\n",
    "from sklearn.preprocessing import LabelEncoder\n",
    "from sklearn.preprocessing import OneHotEncoder\n",
    "from catboost import CatBoost\n",
    "from catboost import CatBoostClassifier, Pool\n",
    "import catboost as catb\n",
    "from sklearn.model_selection import train_test_split, GridSearchCV\n",
    "from sklearn.metrics import (roc_auc_score, roc_curve, auc, confusion_matrix, \\\n",
    "                             accuracy_score, classification_report, plot_confusion_matrix, \\\n",
    "                             plot_precision_recall_curve, precision_recall_curve, recall_score,\n",
    "                             plot_roc_curve, f1_score)\n",
    "\n",
    "import warnings\n",
    "\n",
    "\n",
    "warnings.filterwarnings('ignore')\n",
    "\n",
    "%matplotlib inline"
   ]
  },
  {
   "cell_type": "markdown",
   "id": "25e05eec",
   "metadata": {},
   "source": [
    "#### Import dataset"
   ]
  },
  {
   "cell_type": "code",
   "execution_count": 3,
   "id": "16f92e0f",
   "metadata": {},
   "outputs": [
    {
     "data": {
      "text/html": [
       "<div>\n",
       "<style scoped>\n",
       "    .dataframe tbody tr th:only-of-type {\n",
       "        vertical-align: middle;\n",
       "    }\n",
       "\n",
       "    .dataframe tbody tr th {\n",
       "        vertical-align: top;\n",
       "    }\n",
       "\n",
       "    .dataframe thead th {\n",
       "        text-align: right;\n",
       "    }\n",
       "</style>\n",
       "<table border=\"1\" class=\"dataframe\">\n",
       "  <thead>\n",
       "    <tr style=\"text-align: right;\">\n",
       "      <th></th>\n",
       "      <th>Home Ownership</th>\n",
       "      <th>Annual Income</th>\n",
       "      <th>Years in current job</th>\n",
       "      <th>Tax Liens</th>\n",
       "      <th>Number of Open Accounts</th>\n",
       "      <th>Years of Credit History</th>\n",
       "      <th>Maximum Open Credit</th>\n",
       "      <th>Number of Credit Problems</th>\n",
       "      <th>Months since last delinquent</th>\n",
       "      <th>Bankruptcies</th>\n",
       "      <th>Purpose</th>\n",
       "      <th>Term</th>\n",
       "      <th>Current Loan Amount</th>\n",
       "      <th>Current Credit Balance</th>\n",
       "      <th>Monthly Debt</th>\n",
       "      <th>Credit Score</th>\n",
       "      <th>Credit Default</th>\n",
       "    </tr>\n",
       "  </thead>\n",
       "  <tbody>\n",
       "    <tr>\n",
       "      <th>0</th>\n",
       "      <td>Own Home</td>\n",
       "      <td>482087.0</td>\n",
       "      <td>NaN</td>\n",
       "      <td>0.0</td>\n",
       "      <td>11.0</td>\n",
       "      <td>26.3</td>\n",
       "      <td>685960.0</td>\n",
       "      <td>1.0</td>\n",
       "      <td>NaN</td>\n",
       "      <td>1.0</td>\n",
       "      <td>debt consolidation</td>\n",
       "      <td>Short Term</td>\n",
       "      <td>99999999.0</td>\n",
       "      <td>47386.0</td>\n",
       "      <td>7914.0</td>\n",
       "      <td>749.0</td>\n",
       "      <td>0</td>\n",
       "    </tr>\n",
       "    <tr>\n",
       "      <th>1</th>\n",
       "      <td>Own Home</td>\n",
       "      <td>1025487.0</td>\n",
       "      <td>10+ years</td>\n",
       "      <td>0.0</td>\n",
       "      <td>15.0</td>\n",
       "      <td>15.3</td>\n",
       "      <td>1181730.0</td>\n",
       "      <td>0.0</td>\n",
       "      <td>NaN</td>\n",
       "      <td>0.0</td>\n",
       "      <td>debt consolidation</td>\n",
       "      <td>Long Term</td>\n",
       "      <td>264968.0</td>\n",
       "      <td>394972.0</td>\n",
       "      <td>18373.0</td>\n",
       "      <td>737.0</td>\n",
       "      <td>1</td>\n",
       "    </tr>\n",
       "    <tr>\n",
       "      <th>2</th>\n",
       "      <td>Home Mortgage</td>\n",
       "      <td>751412.0</td>\n",
       "      <td>8 years</td>\n",
       "      <td>0.0</td>\n",
       "      <td>11.0</td>\n",
       "      <td>35.0</td>\n",
       "      <td>1182434.0</td>\n",
       "      <td>0.0</td>\n",
       "      <td>NaN</td>\n",
       "      <td>0.0</td>\n",
       "      <td>debt consolidation</td>\n",
       "      <td>Short Term</td>\n",
       "      <td>99999999.0</td>\n",
       "      <td>308389.0</td>\n",
       "      <td>13651.0</td>\n",
       "      <td>742.0</td>\n",
       "      <td>0</td>\n",
       "    </tr>\n",
       "    <tr>\n",
       "      <th>3</th>\n",
       "      <td>Own Home</td>\n",
       "      <td>805068.0</td>\n",
       "      <td>6 years</td>\n",
       "      <td>0.0</td>\n",
       "      <td>8.0</td>\n",
       "      <td>22.5</td>\n",
       "      <td>147400.0</td>\n",
       "      <td>1.0</td>\n",
       "      <td>NaN</td>\n",
       "      <td>1.0</td>\n",
       "      <td>debt consolidation</td>\n",
       "      <td>Short Term</td>\n",
       "      <td>121396.0</td>\n",
       "      <td>95855.0</td>\n",
       "      <td>11338.0</td>\n",
       "      <td>694.0</td>\n",
       "      <td>0</td>\n",
       "    </tr>\n",
       "    <tr>\n",
       "      <th>4</th>\n",
       "      <td>Rent</td>\n",
       "      <td>776264.0</td>\n",
       "      <td>8 years</td>\n",
       "      <td>0.0</td>\n",
       "      <td>13.0</td>\n",
       "      <td>13.6</td>\n",
       "      <td>385836.0</td>\n",
       "      <td>1.0</td>\n",
       "      <td>NaN</td>\n",
       "      <td>0.0</td>\n",
       "      <td>debt consolidation</td>\n",
       "      <td>Short Term</td>\n",
       "      <td>125840.0</td>\n",
       "      <td>93309.0</td>\n",
       "      <td>7180.0</td>\n",
       "      <td>719.0</td>\n",
       "      <td>0</td>\n",
       "    </tr>\n",
       "  </tbody>\n",
       "</table>\n",
       "</div>"
      ],
      "text/plain": [
       "  Home Ownership  Annual Income Years in current job  Tax Liens  \\\n",
       "0       Own Home       482087.0                  NaN        0.0   \n",
       "1       Own Home      1025487.0            10+ years        0.0   \n",
       "2  Home Mortgage       751412.0              8 years        0.0   \n",
       "3       Own Home       805068.0              6 years        0.0   \n",
       "4           Rent       776264.0              8 years        0.0   \n",
       "\n",
       "   Number of Open Accounts  Years of Credit History  Maximum Open Credit  \\\n",
       "0                     11.0                     26.3             685960.0   \n",
       "1                     15.0                     15.3            1181730.0   \n",
       "2                     11.0                     35.0            1182434.0   \n",
       "3                      8.0                     22.5             147400.0   \n",
       "4                     13.0                     13.6             385836.0   \n",
       "\n",
       "   Number of Credit Problems  Months since last delinquent  Bankruptcies  \\\n",
       "0                        1.0                           NaN           1.0   \n",
       "1                        0.0                           NaN           0.0   \n",
       "2                        0.0                           NaN           0.0   \n",
       "3                        1.0                           NaN           1.0   \n",
       "4                        1.0                           NaN           0.0   \n",
       "\n",
       "              Purpose        Term  Current Loan Amount  \\\n",
       "0  debt consolidation  Short Term           99999999.0   \n",
       "1  debt consolidation   Long Term             264968.0   \n",
       "2  debt consolidation  Short Term           99999999.0   \n",
       "3  debt consolidation  Short Term             121396.0   \n",
       "4  debt consolidation  Short Term             125840.0   \n",
       "\n",
       "   Current Credit Balance  Monthly Debt  Credit Score  Credit Default  \n",
       "0                 47386.0        7914.0         749.0               0  \n",
       "1                394972.0       18373.0         737.0               1  \n",
       "2                308389.0       13651.0         742.0               0  \n",
       "3                 95855.0       11338.0         694.0               0  \n",
       "4                 93309.0        7180.0         719.0               0  "
      ]
     },
     "execution_count": 3,
     "metadata": {},
     "output_type": "execute_result"
    }
   ],
   "source": [
    "train_dataset_path = '/Users/sergeismolnikov/Desktop/ML/GeekBrains/gb_ml_lib2/course_project_train.csv'\n",
    "test_dataset_path = '/Users/sergeismolnikov/Desktop/ML/GeekBrains/gb_ml_lib2/course_project_test.csv'\n",
    "train_df = pd.read_csv(train_dataset_path)\n",
    "train_df.head()"
   ]
  },
  {
   "cell_type": "code",
   "execution_count": null,
   "id": "6872eda3",
   "metadata": {},
   "outputs": [],
   "source": []
  },
  {
   "cell_type": "markdown",
   "id": "16c00757",
   "metadata": {},
   "source": [
    "# Посмотрим на каждый из признаков"
   ]
  },
  {
   "cell_type": "code",
   "execution_count": 4,
   "id": "c5c7ea41",
   "metadata": {},
   "outputs": [
    {
     "data": {
      "text/plain": [
       "<function matplotlib.pyplot.show(close=None, block=None)>"
      ]
     },
     "execution_count": 4,
     "metadata": {},
     "output_type": "execute_result"
    },
    {
     "data": {
      "image/png": "[encoded data removed]",
      "text/plain": [
       "<Figure size 1440x1080 with 16 Axes>"
      ]
     },
     "metadata": {
      "needs_background": "light"
     },
     "output_type": "display_data"
    }
   ],
   "source": [
    "train_df.hist(bins=50, figsize=(20,15))\n",
    "plt.show"
   ]
  },
  {
   "cell_type": "code",
   "execution_count": 34,
   "id": "570b8e49",
   "metadata": {},
   "outputs": [
    {
     "name": "stdout",
     "output_type": "stream",
     "text": [
      "<class 'pandas.core.frame.DataFrame'>\n",
      "RangeIndex: 7500 entries, 0 to 7499\n",
      "Data columns (total 17 columns):\n",
      " #   Column                        Non-Null Count  Dtype  \n",
      "---  ------                        --------------  -----  \n",
      " 0   Home Ownership                7500 non-null   object \n",
      " 1   Annual Income                 5943 non-null   float64\n",
      " 2   Years in current job          7129 non-null   object \n",
      " 3   Tax Liens                     7500 non-null   float64\n",
      " 4   Number of Open Accounts       7500 non-null   float64\n",
      " 5   Years of Credit History       7500 non-null   float64\n",
      " 6   Maximum Open Credit           7500 non-null   float64\n",
      " 7   Number of Credit Problems     7500 non-null   float64\n",
      " 8   Months since last delinquent  3419 non-null   float64\n",
      " 9   Bankruptcies                  7486 non-null   float64\n",
      " 10  Purpose                       7500 non-null   object \n",
      " 11  Term                          7500 non-null   object \n",
      " 12  Current Loan Amount           7500 non-null   float64\n",
      " 13  Current Credit Balance        7500 non-null   float64\n",
      " 14  Monthly Debt                  7500 non-null   float64\n",
      " 15  Credit Score                  5943 non-null   float64\n",
      " 16  Credit Default                7500 non-null   int64  \n",
      "dtypes: float64(12), int64(1), object(4)\n",
      "memory usage: 996.2+ KB\n"
     ]
    }
   ],
   "source": [
    "train_df.info()"
   ]
  },
  {
   "cell_type": "markdown",
   "id": "3997d959",
   "metadata": {},
   "source": [
    "# Обработка выбросов"
   ]
  },
  {
   "cell_type": "markdown",
   "id": "8930f4b0",
   "metadata": {},
   "source": [
    "Исходя из исследовательского обзора данных, были выявлены следующие признаки, в которых присутствуют выбросы\n",
    "\n",
    "Credit Score \n",
    "\n",
    "Current Loan Amount\n",
    "\n",
    "Maximum Open Credit\n",
    "\n",
    "Months since last delinquent"
   ]
  },
  {
   "cell_type": "markdown",
   "id": "9ba8fabf",
   "metadata": {},
   "source": [
    "### Credit score \n",
    "\n",
    "Должен лежать в пределах 300-850 (https://credit.org/blog/what-is-a-good-credit-score-infographic/), поэтому надо привести все выбросы в соответствие с этими значениями. Значения находятся в области >3000, поэтому вполне разумно будет разделить эти значения на 10\n"
   ]
  },
  {
   "cell_type": "code",
   "execution_count": 6,
   "id": "a3f4a3cf",
   "metadata": {},
   "outputs": [
    {
     "data": {
      "text/plain": [
       "5543"
      ]
     },
     "execution_count": 6,
     "metadata": {},
     "output_type": "execute_result"
    }
   ],
   "source": [
    "train_df[train_df['Credit Score'] <= 850]['Credit Score'].count()"
   ]
  },
  {
   "cell_type": "code",
   "execution_count": 7,
   "id": "b2bf7726",
   "metadata": {},
   "outputs": [
    {
     "data": {
      "text/plain": [
       "400"
      ]
     },
     "execution_count": 7,
     "metadata": {},
     "output_type": "execute_result"
    }
   ],
   "source": [
    "train_df[train_df['Credit Score']>3000]['Credit Score'].count()"
   ]
  },
  {
   "cell_type": "code",
   "execution_count": 8,
   "id": "2f333b70",
   "metadata": {},
   "outputs": [
    {
     "data": {
      "text/plain": [
       "400"
      ]
     },
     "execution_count": 8,
     "metadata": {},
     "output_type": "execute_result"
    }
   ],
   "source": [
    "train_df[train_df['Credit Score'] >850]['Credit Score'].count()"
   ]
  },
  {
   "cell_type": "code",
   "execution_count": 9,
   "id": "9e5aafeb",
   "metadata": {},
   "outputs": [],
   "source": [
    "train_df.loc[train_df['Credit Score'] > 1000, 'Credit Score'] = train_df.loc[train_df['Credit Score'] > 1000, 'Credit Score'] / 10"
   ]
  },
  {
   "cell_type": "markdown",
   "id": "23610b5c",
   "metadata": {},
   "source": [
    "### Current Loan Amount\n",
    "Можно предположить, что много девяток - это ошибка при вводе, поэтому есть смысл заменить значения медианным"
   ]
  },
  {
   "cell_type": "code",
   "execution_count": 10,
   "id": "51b5f936",
   "metadata": {},
   "outputs": [],
   "source": [
    "train_df.loc[train_df['Current Loan Amount'] == 99999999.0, 'Current Loan Amount'] = train_df['Current Loan Amount'].median()"
   ]
  },
  {
   "cell_type": "markdown",
   "id": "51fd2f3c",
   "metadata": {},
   "source": [
    "### Maximum Open Credit\n",
    "\n",
    "Наибольший открытый кредит вряд ли может быть больше максимально доступного, если "
   ]
  },
  {
   "cell_type": "code",
   "execution_count": 11,
   "id": "b0fe4d34",
   "metadata": {},
   "outputs": [],
   "source": [
    "condition = train_df['Current Loan Amount'] > train_df['Maximum Open Credit']\n",
    "train_df.loc[condition, 'Maximum Open Credit'] = train_df['Current Loan Amount']"
   ]
  },
  {
   "cell_type": "code",
   "execution_count": 12,
   "id": "2e21f5f0",
   "metadata": {},
   "outputs": [],
   "source": [
    "condition = train_df['Current Loan Amount'] > train_df['Maximum Open Credit']\n",
    "train_df.loc[condition, 'Maximum Open Credit'] = train_df['Current Loan Amount']\n",
    "condition2 = train_df['Maximum Open Credit'] > 99999999.0\n",
    "train_df.loc[condition2, 'Maximum Open Credit'] = train_df['Maximum Open Credit'].median()"
   ]
  },
  {
   "cell_type": "code",
   "execution_count": 13,
   "id": "51e1e483",
   "metadata": {},
   "outputs": [
    {
     "data": {
      "text/html": [
       "<div>\n",
       "<style scoped>\n",
       "    .dataframe tbody tr th:only-of-type {\n",
       "        vertical-align: middle;\n",
       "    }\n",
       "\n",
       "    .dataframe tbody tr th {\n",
       "        vertical-align: top;\n",
       "    }\n",
       "\n",
       "    .dataframe thead th {\n",
       "        text-align: right;\n",
       "    }\n",
       "</style>\n",
       "<table border=\"1\" class=\"dataframe\">\n",
       "  <thead>\n",
       "    <tr style=\"text-align: right;\">\n",
       "      <th></th>\n",
       "      <th>Annual Income</th>\n",
       "      <th>Tax Liens</th>\n",
       "      <th>Number of Open Accounts</th>\n",
       "      <th>Years of Credit History</th>\n",
       "      <th>Maximum Open Credit</th>\n",
       "      <th>Number of Credit Problems</th>\n",
       "      <th>Months since last delinquent</th>\n",
       "      <th>Bankruptcies</th>\n",
       "      <th>Current Loan Amount</th>\n",
       "      <th>Current Credit Balance</th>\n",
       "      <th>Monthly Debt</th>\n",
       "      <th>Credit Score</th>\n",
       "      <th>Credit Default</th>\n",
       "    </tr>\n",
       "  </thead>\n",
       "  <tbody>\n",
       "    <tr>\n",
       "      <th>count</th>\n",
       "      <td>5.943000e+03</td>\n",
       "      <td>7500.000000</td>\n",
       "      <td>7500.000000</td>\n",
       "      <td>7500.000000</td>\n",
       "      <td>7.500000e+03</td>\n",
       "      <td>7500.000000</td>\n",
       "      <td>3419.000000</td>\n",
       "      <td>7486.000000</td>\n",
       "      <td>7500.000000</td>\n",
       "      <td>7.500000e+03</td>\n",
       "      <td>7500.000000</td>\n",
       "      <td>5943.000000</td>\n",
       "      <td>7500.000000</td>\n",
       "    </tr>\n",
       "    <tr>\n",
       "      <th>mean</th>\n",
       "      <td>1.366392e+06</td>\n",
       "      <td>0.030133</td>\n",
       "      <td>11.130933</td>\n",
       "      <td>18.317467</td>\n",
       "      <td>7.123280e+05</td>\n",
       "      <td>0.170000</td>\n",
       "      <td>34.692600</td>\n",
       "      <td>0.117152</td>\n",
       "      <td>309088.029067</td>\n",
       "      <td>2.898332e+05</td>\n",
       "      <td>18314.454133</td>\n",
       "      <td>720.086993</td>\n",
       "      <td>0.281733</td>\n",
       "    </tr>\n",
       "    <tr>\n",
       "      <th>std</th>\n",
       "      <td>8.453392e+05</td>\n",
       "      <td>0.271604</td>\n",
       "      <td>4.908924</td>\n",
       "      <td>7.041946</td>\n",
       "      <td>1.255779e+06</td>\n",
       "      <td>0.498598</td>\n",
       "      <td>21.688806</td>\n",
       "      <td>0.347192</td>\n",
       "      <td>171393.740131</td>\n",
       "      <td>3.178714e+05</td>\n",
       "      <td>11926.764673</td>\n",
       "      <td>27.957233</td>\n",
       "      <td>0.449874</td>\n",
       "    </tr>\n",
       "    <tr>\n",
       "      <th>min</th>\n",
       "      <td>1.645970e+05</td>\n",
       "      <td>0.000000</td>\n",
       "      <td>2.000000</td>\n",
       "      <td>4.000000</td>\n",
       "      <td>1.124200e+04</td>\n",
       "      <td>0.000000</td>\n",
       "      <td>0.000000</td>\n",
       "      <td>0.000000</td>\n",
       "      <td>11242.000000</td>\n",
       "      <td>0.000000e+00</td>\n",
       "      <td>0.000000</td>\n",
       "      <td>585.000000</td>\n",
       "      <td>0.000000</td>\n",
       "    </tr>\n",
       "    <tr>\n",
       "      <th>25%</th>\n",
       "      <td>8.443410e+05</td>\n",
       "      <td>0.000000</td>\n",
       "      <td>8.000000</td>\n",
       "      <td>13.500000</td>\n",
       "      <td>3.188735e+05</td>\n",
       "      <td>0.000000</td>\n",
       "      <td>16.000000</td>\n",
       "      <td>0.000000</td>\n",
       "      <td>180169.000000</td>\n",
       "      <td>1.142565e+05</td>\n",
       "      <td>10067.500000</td>\n",
       "      <td>708.000000</td>\n",
       "      <td>0.000000</td>\n",
       "    </tr>\n",
       "    <tr>\n",
       "      <th>50%</th>\n",
       "      <td>1.168386e+06</td>\n",
       "      <td>0.000000</td>\n",
       "      <td>10.000000</td>\n",
       "      <td>17.000000</td>\n",
       "      <td>5.121270e+05</td>\n",
       "      <td>0.000000</td>\n",
       "      <td>32.000000</td>\n",
       "      <td>0.000000</td>\n",
       "      <td>309567.500000</td>\n",
       "      <td>2.093230e+05</td>\n",
       "      <td>16076.500000</td>\n",
       "      <td>729.000000</td>\n",
       "      <td>0.000000</td>\n",
       "    </tr>\n",
       "    <tr>\n",
       "      <th>75%</th>\n",
       "      <td>1.640137e+06</td>\n",
       "      <td>0.000000</td>\n",
       "      <td>14.000000</td>\n",
       "      <td>21.800000</td>\n",
       "      <td>7.931660e+05</td>\n",
       "      <td>0.000000</td>\n",
       "      <td>50.000000</td>\n",
       "      <td>0.000000</td>\n",
       "      <td>396929.500000</td>\n",
       "      <td>3.604062e+05</td>\n",
       "      <td>23818.000000</td>\n",
       "      <td>740.000000</td>\n",
       "      <td>1.000000</td>\n",
       "    </tr>\n",
       "    <tr>\n",
       "      <th>max</th>\n",
       "      <td>1.014934e+07</td>\n",
       "      <td>7.000000</td>\n",
       "      <td>43.000000</td>\n",
       "      <td>57.700000</td>\n",
       "      <td>5.756256e+07</td>\n",
       "      <td>7.000000</td>\n",
       "      <td>118.000000</td>\n",
       "      <td>4.000000</td>\n",
       "      <td>789030.000000</td>\n",
       "      <td>6.506797e+06</td>\n",
       "      <td>136679.000000</td>\n",
       "      <td>751.000000</td>\n",
       "      <td>1.000000</td>\n",
       "    </tr>\n",
       "  </tbody>\n",
       "</table>\n",
       "</div>"
      ],
      "text/plain": [
       "       Annual Income    Tax Liens  Number of Open Accounts  \\\n",
       "count   5.943000e+03  7500.000000              7500.000000   \n",
       "mean    1.366392e+06     0.030133                11.130933   \n",
       "std     8.453392e+05     0.271604                 4.908924   \n",
       "min     1.645970e+05     0.000000                 2.000000   \n",
       "25%     8.443410e+05     0.000000                 8.000000   \n",
       "50%     1.168386e+06     0.000000                10.000000   \n",
       "75%     1.640137e+06     0.000000                14.000000   \n",
       "max     1.014934e+07     7.000000                43.000000   \n",
       "\n",
       "       Years of Credit History  Maximum Open Credit  \\\n",
       "count              7500.000000         7.500000e+03   \n",
       "mean                 18.317467         7.123280e+05   \n",
       "std                   7.041946         1.255779e+06   \n",
       "min                   4.000000         1.124200e+04   \n",
       "25%                  13.500000         3.188735e+05   \n",
       "50%                  17.000000         5.121270e+05   \n",
       "75%                  21.800000         7.931660e+05   \n",
       "max                  57.700000         5.756256e+07   \n",
       "\n",
       "       Number of Credit Problems  Months since last delinquent  Bankruptcies  \\\n",
       "count                7500.000000                   3419.000000   7486.000000   \n",
       "mean                    0.170000                     34.692600      0.117152   \n",
       "std                     0.498598                     21.688806      0.347192   \n",
       "min                     0.000000                      0.000000      0.000000   \n",
       "25%                     0.000000                     16.000000      0.000000   \n",
       "50%                     0.000000                     32.000000      0.000000   \n",
       "75%                     0.000000                     50.000000      0.000000   \n",
       "max                     7.000000                    118.000000      4.000000   \n",
       "\n",
       "       Current Loan Amount  Current Credit Balance   Monthly Debt  \\\n",
       "count          7500.000000            7.500000e+03    7500.000000   \n",
       "mean         309088.029067            2.898332e+05   18314.454133   \n",
       "std          171393.740131            3.178714e+05   11926.764673   \n",
       "min           11242.000000            0.000000e+00       0.000000   \n",
       "25%          180169.000000            1.142565e+05   10067.500000   \n",
       "50%          309567.500000            2.093230e+05   16076.500000   \n",
       "75%          396929.500000            3.604062e+05   23818.000000   \n",
       "max          789030.000000            6.506797e+06  136679.000000   \n",
       "\n",
       "       Credit Score  Credit Default  \n",
       "count   5943.000000     7500.000000  \n",
       "mean     720.086993        0.281733  \n",
       "std       27.957233        0.449874  \n",
       "min      585.000000        0.000000  \n",
       "25%      708.000000        0.000000  \n",
       "50%      729.000000        0.000000  \n",
       "75%      740.000000        1.000000  \n",
       "max      751.000000        1.000000  "
      ]
     },
     "execution_count": 13,
     "metadata": {},
     "output_type": "execute_result"
    }
   ],
   "source": [
    "train_df.describe()"
   ]
  },
  {
   "cell_type": "markdown",
   "id": "3d5cbaf5",
   "metadata": {},
   "source": [
    "## ОБРАБОТКА ПРОПУСКОВ"
   ]
  },
  {
   "cell_type": "code",
   "execution_count": 14,
   "id": "7aa6cd7f",
   "metadata": {},
   "outputs": [
    {
     "data": {
      "text/plain": [
       "Annual Income                   1557\n",
       "Years in current job             371\n",
       "Months since last delinquent    4081\n",
       "Bankruptcies                      14\n",
       "Credit Score                    1557\n",
       "dtype: int64"
      ]
     },
     "execution_count": 14,
     "metadata": {},
     "output_type": "execute_result"
    }
   ],
   "source": [
    "null_value_stats = train_df.isnull().sum(axis=0)\n",
    "null_value_stats[null_value_stats != 0]"
   ]
  },
  {
   "cell_type": "markdown",
   "id": "b81a15e0",
   "metadata": {},
   "source": [
    "### Annual income\n",
    "\n",
    "Заполним медианным значением"
   ]
  },
  {
   "cell_type": "code",
   "execution_count": 15,
   "id": "1744d7c5",
   "metadata": {},
   "outputs": [],
   "source": [
    "train_df.loc[train_df['Annual Income'].isnull(), 'Annual Income'] = train_df['Annual Income'].median()\n",
    "\n"
   ]
  },
  {
   "cell_type": "code",
   "execution_count": 16,
   "id": "5470e033",
   "metadata": {},
   "outputs": [],
   "source": [
    "# НЕ ЗАБЫТЬ, ЧТО МЕДИАНУ НУЖНО СОХРАНИТЬ В КЛАСС В ФИТЕ\n",
    "\n",
    "def annual_inc(df):\n",
    "            df.loc[train_df['Annual Income'].isnull(), 'Annual Income'] = train_df['Annual Income'].median()"
   ]
  },
  {
   "cell_type": "code",
   "execution_count": null,
   "id": "cb6fbbad",
   "metadata": {},
   "outputs": [],
   "source": []
  },
  {
   "cell_type": "markdown",
   "id": "279008aa",
   "metadata": {},
   "source": [
    "### Years in current job\n",
    "\n",
    "заполним модой"
   ]
  },
  {
   "cell_type": "code",
   "execution_count": 17,
   "id": "0bcb2cc3",
   "metadata": {},
   "outputs": [],
   "source": [
    "mode = train_df['Years in current job'].mode().values[0]\n",
    "train_df['Years in current job'].fillna(mode, inplace = True)"
   ]
  },
  {
   "cell_type": "markdown",
   "id": "e48a0dde",
   "metadata": {},
   "source": [
    "### Months since last delinquent \n",
    "\n",
    "заполним -999 значением, чтобы CatBoost их мог увидеть"
   ]
  },
  {
   "cell_type": "code",
   "execution_count": 18,
   "id": "6aae3c9d",
   "metadata": {},
   "outputs": [],
   "source": [
    "train_df['Months since last delinquent'].fillna(-999, inplace=True)"
   ]
  },
  {
   "cell_type": "markdown",
   "id": "05ea7a13",
   "metadata": {},
   "source": [
    "### Bankruptcies\n",
    "Заполним медианным значением"
   ]
  },
  {
   "cell_type": "code",
   "execution_count": 19,
   "id": "b470a227",
   "metadata": {},
   "outputs": [],
   "source": [
    "train_df['Bankruptcies'].fillna(train_df['Bankruptcies'].median(), inplace = True)"
   ]
  },
  {
   "cell_type": "markdown",
   "id": "fbaa2109",
   "metadata": {},
   "source": [
    "### Credit Score\n",
    "\n",
    "Заполним медианным значением"
   ]
  },
  {
   "cell_type": "code",
   "execution_count": 20,
   "id": "e55bfda4",
   "metadata": {},
   "outputs": [],
   "source": [
    "train_df['Credit Score'].fillna(train_df['Credit Score'].median(), inplace = True)"
   ]
  },
  {
   "cell_type": "code",
   "execution_count": 21,
   "id": "faf1836d",
   "metadata": {},
   "outputs": [
    {
     "data": {
      "text/plain": [
       "Series([], dtype: int64)"
      ]
     },
     "execution_count": 21,
     "metadata": {},
     "output_type": "execute_result"
    }
   ],
   "source": [
    "null_value_stats = train_df.isnull().sum(axis=0)\n",
    "null_value_stats[null_value_stats != 0]"
   ]
  },
  {
   "cell_type": "markdown",
   "id": "c426cde3",
   "metadata": {},
   "source": [
    "## Построение новых признаков"
   ]
  },
  {
   "cell_type": "markdown",
   "id": "458d5271",
   "metadata": {},
   "source": [
    "### Annual income"
   ]
  },
  {
   "cell_type": "code",
   "execution_count": 22,
   "id": "3384f5f9",
   "metadata": {},
   "outputs": [],
   "source": [
    "# # # Новый признак - доход по категориям\n",
    "\n",
    "# # # train_df['Annual_cut'] = pd.qcut(train_df['Annual Income'], bins=4, labels=[1, 2, 3, 4])\n",
    "# # #[0, .2, .4, .6, .8, 1.]\n",
    "# # train_df['Annual_cut'] = pd.cut(train_df['Annual Income'], bins=5)\n",
    "\n",
    "# min_value = train_df['Annual Income'].min()\n",
    "# max_value = train_df['Annual Income'].max()\n",
    "\n",
    "# new_df = train_df.loc[train_df['Annual Income']\n",
    "\n",
    "# bins = np.linspace(min_value,max_value,5)\n",
    "# labels = ['small', 'medium', 'big','very big']\n",
    "\n",
    "# bins = [154612.253, 2660783.75, 5156970.5, 7653157.25, 10149344.0]\n",
    "# labels = ['small', 'medium', 'big','very big']\n",
    "\n",
    "# train_df['Annual_cut'] = pd.cut(train_df['Annual Income'], bins = bins, labels=labels, duplicates='drop')\n",
    "\n",
    "labels = ['small', 'medium', 'big','very big']\n",
    "train_df['Annual_cut'] = pd.qcut(train_df['Annual Income'], \n",
    "                                 q = [0, .2, .4, .6, .8, 1.], labels=labels, duplicates='drop')\n",
    "\n"
   ]
  },
  {
   "cell_type": "code",
   "execution_count": 23,
   "id": "4a697574",
   "metadata": {},
   "outputs": [],
   "source": [
    "labels = ['small', 'medium', 'big','very big']\n",
    "train_df['Annual_cut'] = pd.qcut(train_df['Annual Income'], \n",
    "                                 q = [0, .2, .4, .6, .8, 1.], labels=labels, duplicates='drop')\n",
    "bins = [train_df.loc[train_df['Annual_cut'] == 'small', 'Annual Income'].min(),\n",
    "        train_df.loc[train_df['Annual_cut'] == 'small', 'Annual Income'].max(),\n",
    "        train_df.loc[train_df['Annual_cut'] == 'medium', 'Annual Income'].max(),\n",
    "        train_df.loc[train_df['Annual_cut'] == 'big', 'Annual Income'].max(),\n",
    "        train_df.loc[train_df['Annual_cut'] == 'very big', 'Annual Income'].max()\n",
    "       ]\n",
    "labels = ['small', 'medium', 'big','very big']\n",
    "train_df['Annual_cut'] = pd.cut(train_df['Annual Income'], bins = bins, labels=labels, duplicates='drop')\n"
   ]
  },
  {
   "cell_type": "code",
   "execution_count": 24,
   "id": "3863453e",
   "metadata": {},
   "outputs": [],
   "source": [
    "bins = [164597.0, 846374.0, 1168386.0, 1633183.0, 10149344.0]\n"
   ]
  },
  {
   "cell_type": "code",
   "execution_count": 25,
   "id": "ff03f114",
   "metadata": {},
   "outputs": [
    {
     "data": {
      "text/html": [
       "<div>\n",
       "<style scoped>\n",
       "    .dataframe tbody tr th:only-of-type {\n",
       "        vertical-align: middle;\n",
       "    }\n",
       "\n",
       "    .dataframe tbody tr th {\n",
       "        vertical-align: top;\n",
       "    }\n",
       "\n",
       "    .dataframe thead th {\n",
       "        text-align: right;\n",
       "    }\n",
       "</style>\n",
       "<table border=\"1\" class=\"dataframe\">\n",
       "  <thead>\n",
       "    <tr style=\"text-align: right;\">\n",
       "      <th></th>\n",
       "      <th>Home Ownership</th>\n",
       "      <th>Annual Income</th>\n",
       "      <th>Years in current job</th>\n",
       "      <th>Tax Liens</th>\n",
       "      <th>Number of Open Accounts</th>\n",
       "      <th>Years of Credit History</th>\n",
       "      <th>Maximum Open Credit</th>\n",
       "      <th>Number of Credit Problems</th>\n",
       "      <th>Months since last delinquent</th>\n",
       "      <th>Bankruptcies</th>\n",
       "      <th>Purpose</th>\n",
       "      <th>Term</th>\n",
       "      <th>Current Loan Amount</th>\n",
       "      <th>Current Credit Balance</th>\n",
       "      <th>Monthly Debt</th>\n",
       "      <th>Credit Score</th>\n",
       "      <th>Credit Default</th>\n",
       "      <th>Annual_cut</th>\n",
       "    </tr>\n",
       "  </thead>\n",
       "  <tbody>\n",
       "    <tr>\n",
       "      <th>0</th>\n",
       "      <td>Own Home</td>\n",
       "      <td>482087.0</td>\n",
       "      <td>10+ years</td>\n",
       "      <td>0.0</td>\n",
       "      <td>11.0</td>\n",
       "      <td>26.3</td>\n",
       "      <td>685960.0</td>\n",
       "      <td>1.0</td>\n",
       "      <td>-999.0</td>\n",
       "      <td>1.0</td>\n",
       "      <td>debt consolidation</td>\n",
       "      <td>Short Term</td>\n",
       "      <td>309573.0</td>\n",
       "      <td>47386.0</td>\n",
       "      <td>7914.0</td>\n",
       "      <td>749.0</td>\n",
       "      <td>0</td>\n",
       "      <td>small</td>\n",
       "    </tr>\n",
       "    <tr>\n",
       "      <th>1</th>\n",
       "      <td>Own Home</td>\n",
       "      <td>1025487.0</td>\n",
       "      <td>10+ years</td>\n",
       "      <td>0.0</td>\n",
       "      <td>15.0</td>\n",
       "      <td>15.3</td>\n",
       "      <td>1181730.0</td>\n",
       "      <td>0.0</td>\n",
       "      <td>-999.0</td>\n",
       "      <td>0.0</td>\n",
       "      <td>debt consolidation</td>\n",
       "      <td>Long Term</td>\n",
       "      <td>264968.0</td>\n",
       "      <td>394972.0</td>\n",
       "      <td>18373.0</td>\n",
       "      <td>737.0</td>\n",
       "      <td>1</td>\n",
       "      <td>medium</td>\n",
       "    </tr>\n",
       "    <tr>\n",
       "      <th>2</th>\n",
       "      <td>Home Mortgage</td>\n",
       "      <td>751412.0</td>\n",
       "      <td>8 years</td>\n",
       "      <td>0.0</td>\n",
       "      <td>11.0</td>\n",
       "      <td>35.0</td>\n",
       "      <td>1182434.0</td>\n",
       "      <td>0.0</td>\n",
       "      <td>-999.0</td>\n",
       "      <td>0.0</td>\n",
       "      <td>debt consolidation</td>\n",
       "      <td>Short Term</td>\n",
       "      <td>309573.0</td>\n",
       "      <td>308389.0</td>\n",
       "      <td>13651.0</td>\n",
       "      <td>742.0</td>\n",
       "      <td>0</td>\n",
       "      <td>small</td>\n",
       "    </tr>\n",
       "    <tr>\n",
       "      <th>3</th>\n",
       "      <td>Own Home</td>\n",
       "      <td>805068.0</td>\n",
       "      <td>6 years</td>\n",
       "      <td>0.0</td>\n",
       "      <td>8.0</td>\n",
       "      <td>22.5</td>\n",
       "      <td>147400.0</td>\n",
       "      <td>1.0</td>\n",
       "      <td>-999.0</td>\n",
       "      <td>1.0</td>\n",
       "      <td>debt consolidation</td>\n",
       "      <td>Short Term</td>\n",
       "      <td>121396.0</td>\n",
       "      <td>95855.0</td>\n",
       "      <td>11338.0</td>\n",
       "      <td>694.0</td>\n",
       "      <td>0</td>\n",
       "      <td>small</td>\n",
       "    </tr>\n",
       "    <tr>\n",
       "      <th>4</th>\n",
       "      <td>Rent</td>\n",
       "      <td>776264.0</td>\n",
       "      <td>8 years</td>\n",
       "      <td>0.0</td>\n",
       "      <td>13.0</td>\n",
       "      <td>13.6</td>\n",
       "      <td>385836.0</td>\n",
       "      <td>1.0</td>\n",
       "      <td>-999.0</td>\n",
       "      <td>0.0</td>\n",
       "      <td>debt consolidation</td>\n",
       "      <td>Short Term</td>\n",
       "      <td>125840.0</td>\n",
       "      <td>93309.0</td>\n",
       "      <td>7180.0</td>\n",
       "      <td>719.0</td>\n",
       "      <td>0</td>\n",
       "      <td>small</td>\n",
       "    </tr>\n",
       "  </tbody>\n",
       "</table>\n",
       "</div>"
      ],
      "text/plain": [
       "  Home Ownership  Annual Income Years in current job  Tax Liens  \\\n",
       "0       Own Home       482087.0            10+ years        0.0   \n",
       "1       Own Home      1025487.0            10+ years        0.0   \n",
       "2  Home Mortgage       751412.0              8 years        0.0   \n",
       "3       Own Home       805068.0              6 years        0.0   \n",
       "4           Rent       776264.0              8 years        0.0   \n",
       "\n",
       "   Number of Open Accounts  Years of Credit History  Maximum Open Credit  \\\n",
       "0                     11.0                     26.3             685960.0   \n",
       "1                     15.0                     15.3            1181730.0   \n",
       "2                     11.0                     35.0            1182434.0   \n",
       "3                      8.0                     22.5             147400.0   \n",
       "4                     13.0                     13.6             385836.0   \n",
       "\n",
       "   Number of Credit Problems  Months since last delinquent  Bankruptcies  \\\n",
       "0                        1.0                        -999.0           1.0   \n",
       "1                        0.0                        -999.0           0.0   \n",
       "2                        0.0                        -999.0           0.0   \n",
       "3                        1.0                        -999.0           1.0   \n",
       "4                        1.0                        -999.0           0.0   \n",
       "\n",
       "              Purpose        Term  Current Loan Amount  \\\n",
       "0  debt consolidation  Short Term             309573.0   \n",
       "1  debt consolidation   Long Term             264968.0   \n",
       "2  debt consolidation  Short Term             309573.0   \n",
       "3  debt consolidation  Short Term             121396.0   \n",
       "4  debt consolidation  Short Term             125840.0   \n",
       "\n",
       "   Current Credit Balance  Monthly Debt  Credit Score  Credit Default  \\\n",
       "0                 47386.0        7914.0         749.0               0   \n",
       "1                394972.0       18373.0         737.0               1   \n",
       "2                308389.0       13651.0         742.0               0   \n",
       "3                 95855.0       11338.0         694.0               0   \n",
       "4                 93309.0        7180.0         719.0               0   \n",
       "\n",
       "  Annual_cut  \n",
       "0      small  \n",
       "1     medium  \n",
       "2      small  \n",
       "3      small  \n",
       "4      small  "
      ]
     },
     "execution_count": 25,
     "metadata": {},
     "output_type": "execute_result"
    }
   ],
   "source": [
    "train_df.head()"
   ]
  },
  {
   "cell_type": "code",
   "execution_count": 26,
   "id": "1c7fd014",
   "metadata": {},
   "outputs": [
    {
     "data": {
      "text/plain": [
       "<function matplotlib.pyplot.show(close=None, block=None)>"
      ]
     },
     "execution_count": 26,
     "metadata": {},
     "output_type": "execute_result"
    },
    {
     "data": {
      "image/png": "[encoded data removed]",
      "text/plain": [
       "<Figure size 1440x1080 with 1 Axes>"
      ]
     },
     "metadata": {
      "needs_background": "light"
     },
     "output_type": "display_data"
    }
   ],
   "source": [
    "train_df['Annual_cut'].hist( figsize=(20,15))\n",
    "plt.show"
   ]
  },
  {
   "cell_type": "markdown",
   "id": "774da950",
   "metadata": {},
   "source": [
    "### Home Ownership\n",
    "\n",
    "Кажется, что Have Mortgage и Home Mortgage - это одно и то же, поэтому объединяю"
   ]
  },
  {
   "cell_type": "code",
   "execution_count": 27,
   "id": "22a2ba59",
   "metadata": {},
   "outputs": [
    {
     "data": {
      "text/plain": [
       "Home Mortgage    3637\n",
       "Rent             3204\n",
       "Own Home          647\n",
       "Have Mortgage      12\n",
       "Name: Home Ownership, dtype: int64"
      ]
     },
     "execution_count": 27,
     "metadata": {},
     "output_type": "execute_result"
    }
   ],
   "source": [
    "train_df['Home Ownership'].value_counts()  "
   ]
  },
  {
   "cell_type": "code",
   "execution_count": 28,
   "id": "6b93a03e",
   "metadata": {},
   "outputs": [],
   "source": [
    "def home_own(df):\n",
    "        df.loc[df['Home Ownership'] == 'Have Mortgage', 'Home Ownership'] = 'Home Mortgage'"
   ]
  },
  {
   "cell_type": "code",
   "execution_count": 29,
   "id": "8625ec3c",
   "metadata": {},
   "outputs": [],
   "source": [
    "train_df.loc[train_df['Home Ownership'] == 'Have Mortgage', 'Home Ownership'] = 'Home Mortgage'"
   ]
  },
  {
   "cell_type": "code",
   "execution_count": 30,
   "id": "3354b925",
   "metadata": {},
   "outputs": [],
   "source": [
    "# # creating instance of labelencoder\n",
    "# labelencoder = LabelEncoder()\n",
    "# # Assigning numerical values and storing in another column\n",
    "# train_df['Ownership_encode'] = labelencoder.fit_transform(train_df['Home Ownership'])\n",
    "# df_with_dummies = pd.get_dummies(df, prefix='Category_', columns=['Category'])\n"
   ]
  },
  {
   "cell_type": "markdown",
   "id": "0494ca3c",
   "metadata": {},
   "source": [
    "### Years in current job \n",
    "\n",
    "Cделаем разбивку на категории:<=3, 4-6, 7-9, 10+ лет"
   ]
  },
  {
   "cell_type": "code",
   "execution_count": null,
   "id": "56976612",
   "metadata": {},
   "outputs": [],
   "source": []
  },
  {
   "cell_type": "code",
   "execution_count": 31,
   "id": "d87ae668",
   "metadata": {},
   "outputs": [],
   "source": [
    "train_df['Years range'] = train_df['Years in current job'].map({'< 1 year':0, \n",
    "                                                                       '1 year':0, \n",
    "                                                                       '2 years':0, \n",
    "                                                                       '3 years':0, \n",
    "                                                                       '4 years':1, \n",
    "                                                                       '5 years':1, \n",
    "                                                                       '6 years':1, \n",
    "                                                                       '7 years':2,\n",
    "                                                                       '8 years':2,\n",
    "                                                                       '9 years':2,\n",
    "                                                                       '10+ years':3})\n",
    "\n",
    "train_df.loc[train_df['Years range'] == 0, 'Years range'] = '0-3'\n",
    "train_df.loc[train_df['Years range'] == 1, 'Years range'] = '4-6'\n",
    "train_df.loc[train_df['Years range'] == 2, 'Years range'] = '7-9'\n",
    "train_df.loc[train_df['Years range'] == 3, 'Years range'] = '>10'\n"
   ]
  },
  {
   "cell_type": "code",
   "execution_count": null,
   "id": "b1ec1896",
   "metadata": {},
   "outputs": [],
   "source": []
  },
  {
   "cell_type": "markdown",
   "id": "3543d3f5",
   "metadata": {},
   "source": [
    "### Credit Score\n",
    "\n",
    "Сделаем разбивку рейтинга на категории:\n",
    "    \n",
    "* Excellent: 800 to 850\n",
    "* Very Good: 740 to 799\n",
    "* Good: 670 to 739\n",
    "* Fair: 580 to 669\n",
    "* Poor: 300 to 579"
   ]
  },
  {
   "cell_type": "code",
   "execution_count": 32,
   "id": "c9842133",
   "metadata": {},
   "outputs": [],
   "source": [
    "def credit_score_to_cat(X):\n",
    "    bins = [300, 579, 669, 739, 799, 850]\n",
    "    X['Credit Score Cat'] = pd.cut(X['Credit Score'], bins=bins, \n",
    "                                   labels=['poor','fair', 'good' , 'very good','excellent'])\n",
    "    \n",
    "#     X['Credit Score Cat'].fillna(-1, inplace=True)\n",
    "    return X\n",
    "\n"
   ]
  },
  {
   "cell_type": "code",
   "execution_count": 33,
   "id": "1db9586a",
   "metadata": {},
   "outputs": [
    {
     "data": {
      "text/html": [
       "<div>\n",
       "<style scoped>\n",
       "    .dataframe tbody tr th:only-of-type {\n",
       "        vertical-align: middle;\n",
       "    }\n",
       "\n",
       "    .dataframe tbody tr th {\n",
       "        vertical-align: top;\n",
       "    }\n",
       "\n",
       "    .dataframe thead th {\n",
       "        text-align: right;\n",
       "    }\n",
       "</style>\n",
       "<table border=\"1\" class=\"dataframe\">\n",
       "  <thead>\n",
       "    <tr style=\"text-align: right;\">\n",
       "      <th></th>\n",
       "      <th>Home Ownership</th>\n",
       "      <th>Annual Income</th>\n",
       "      <th>Years in current job</th>\n",
       "      <th>Tax Liens</th>\n",
       "      <th>Number of Open Accounts</th>\n",
       "      <th>Years of Credit History</th>\n",
       "      <th>Maximum Open Credit</th>\n",
       "      <th>Number of Credit Problems</th>\n",
       "      <th>Months since last delinquent</th>\n",
       "      <th>Bankruptcies</th>\n",
       "      <th>Purpose</th>\n",
       "      <th>Term</th>\n",
       "      <th>Current Loan Amount</th>\n",
       "      <th>Current Credit Balance</th>\n",
       "      <th>Monthly Debt</th>\n",
       "      <th>Credit Score</th>\n",
       "      <th>Credit Default</th>\n",
       "      <th>Annual_cut</th>\n",
       "      <th>Years range</th>\n",
       "      <th>Credit Score Cat</th>\n",
       "    </tr>\n",
       "  </thead>\n",
       "  <tbody>\n",
       "    <tr>\n",
       "      <th>0</th>\n",
       "      <td>Own Home</td>\n",
       "      <td>482087.0</td>\n",
       "      <td>10+ years</td>\n",
       "      <td>0.0</td>\n",
       "      <td>11.0</td>\n",
       "      <td>26.3</td>\n",
       "      <td>685960.0</td>\n",
       "      <td>1.0</td>\n",
       "      <td>-999.0</td>\n",
       "      <td>1.0</td>\n",
       "      <td>debt consolidation</td>\n",
       "      <td>Short Term</td>\n",
       "      <td>309573.0</td>\n",
       "      <td>47386.0</td>\n",
       "      <td>7914.0</td>\n",
       "      <td>749.0</td>\n",
       "      <td>0</td>\n",
       "      <td>small</td>\n",
       "      <td>&gt;10</td>\n",
       "      <td>very good</td>\n",
       "    </tr>\n",
       "    <tr>\n",
       "      <th>1</th>\n",
       "      <td>Own Home</td>\n",
       "      <td>1025487.0</td>\n",
       "      <td>10+ years</td>\n",
       "      <td>0.0</td>\n",
       "      <td>15.0</td>\n",
       "      <td>15.3</td>\n",
       "      <td>1181730.0</td>\n",
       "      <td>0.0</td>\n",
       "      <td>-999.0</td>\n",
       "      <td>0.0</td>\n",
       "      <td>debt consolidation</td>\n",
       "      <td>Long Term</td>\n",
       "      <td>264968.0</td>\n",
       "      <td>394972.0</td>\n",
       "      <td>18373.0</td>\n",
       "      <td>737.0</td>\n",
       "      <td>1</td>\n",
       "      <td>medium</td>\n",
       "      <td>&gt;10</td>\n",
       "      <td>good</td>\n",
       "    </tr>\n",
       "    <tr>\n",
       "      <th>2</th>\n",
       "      <td>Home Mortgage</td>\n",
       "      <td>751412.0</td>\n",
       "      <td>8 years</td>\n",
       "      <td>0.0</td>\n",
       "      <td>11.0</td>\n",
       "      <td>35.0</td>\n",
       "      <td>1182434.0</td>\n",
       "      <td>0.0</td>\n",
       "      <td>-999.0</td>\n",
       "      <td>0.0</td>\n",
       "      <td>debt consolidation</td>\n",
       "      <td>Short Term</td>\n",
       "      <td>309573.0</td>\n",
       "      <td>308389.0</td>\n",
       "      <td>13651.0</td>\n",
       "      <td>742.0</td>\n",
       "      <td>0</td>\n",
       "      <td>small</td>\n",
       "      <td>7-9</td>\n",
       "      <td>very good</td>\n",
       "    </tr>\n",
       "    <tr>\n",
       "      <th>3</th>\n",
       "      <td>Own Home</td>\n",
       "      <td>805068.0</td>\n",
       "      <td>6 years</td>\n",
       "      <td>0.0</td>\n",
       "      <td>8.0</td>\n",
       "      <td>22.5</td>\n",
       "      <td>147400.0</td>\n",
       "      <td>1.0</td>\n",
       "      <td>-999.0</td>\n",
       "      <td>1.0</td>\n",
       "      <td>debt consolidation</td>\n",
       "      <td>Short Term</td>\n",
       "      <td>121396.0</td>\n",
       "      <td>95855.0</td>\n",
       "      <td>11338.0</td>\n",
       "      <td>694.0</td>\n",
       "      <td>0</td>\n",
       "      <td>small</td>\n",
       "      <td>4-6</td>\n",
       "      <td>good</td>\n",
       "    </tr>\n",
       "    <tr>\n",
       "      <th>4</th>\n",
       "      <td>Rent</td>\n",
       "      <td>776264.0</td>\n",
       "      <td>8 years</td>\n",
       "      <td>0.0</td>\n",
       "      <td>13.0</td>\n",
       "      <td>13.6</td>\n",
       "      <td>385836.0</td>\n",
       "      <td>1.0</td>\n",
       "      <td>-999.0</td>\n",
       "      <td>0.0</td>\n",
       "      <td>debt consolidation</td>\n",
       "      <td>Short Term</td>\n",
       "      <td>125840.0</td>\n",
       "      <td>93309.0</td>\n",
       "      <td>7180.0</td>\n",
       "      <td>719.0</td>\n",
       "      <td>0</td>\n",
       "      <td>small</td>\n",
       "      <td>7-9</td>\n",
       "      <td>good</td>\n",
       "    </tr>\n",
       "  </tbody>\n",
       "</table>\n",
       "</div>"
      ],
      "text/plain": [
       "  Home Ownership  Annual Income Years in current job  Tax Liens  \\\n",
       "0       Own Home       482087.0            10+ years        0.0   \n",
       "1       Own Home      1025487.0            10+ years        0.0   \n",
       "2  Home Mortgage       751412.0              8 years        0.0   \n",
       "3       Own Home       805068.0              6 years        0.0   \n",
       "4           Rent       776264.0              8 years        0.0   \n",
       "\n",
       "   Number of Open Accounts  Years of Credit History  Maximum Open Credit  \\\n",
       "0                     11.0                     26.3             685960.0   \n",
       "1                     15.0                     15.3            1181730.0   \n",
       "2                     11.0                     35.0            1182434.0   \n",
       "3                      8.0                     22.5             147400.0   \n",
       "4                     13.0                     13.6             385836.0   \n",
       "\n",
       "   Number of Credit Problems  Months since last delinquent  Bankruptcies  \\\n",
       "0                        1.0                        -999.0           1.0   \n",
       "1                        0.0                        -999.0           0.0   \n",
       "2                        0.0                        -999.0           0.0   \n",
       "3                        1.0                        -999.0           1.0   \n",
       "4                        1.0                        -999.0           0.0   \n",
       "\n",
       "              Purpose        Term  Current Loan Amount  \\\n",
       "0  debt consolidation  Short Term             309573.0   \n",
       "1  debt consolidation   Long Term             264968.0   \n",
       "2  debt consolidation  Short Term             309573.0   \n",
       "3  debt consolidation  Short Term             121396.0   \n",
       "4  debt consolidation  Short Term             125840.0   \n",
       "\n",
       "   Current Credit Balance  Monthly Debt  Credit Score  Credit Default  \\\n",
       "0                 47386.0        7914.0         749.0               0   \n",
       "1                394972.0       18373.0         737.0               1   \n",
       "2                308389.0       13651.0         742.0               0   \n",
       "3                 95855.0       11338.0         694.0               0   \n",
       "4                 93309.0        7180.0         719.0               0   \n",
       "\n",
       "  Annual_cut Years range Credit Score Cat  \n",
       "0      small         >10        very good  \n",
       "1     medium         >10             good  \n",
       "2      small         7-9        very good  \n",
       "3      small         4-6             good  \n",
       "4      small         7-9             good  "
      ]
     },
     "execution_count": 33,
     "metadata": {},
     "output_type": "execute_result"
    }
   ],
   "source": [
    "train_df = credit_score_to_cat(train_df)\n",
    "train_df.head()"
   ]
  },
  {
   "cell_type": "markdown",
   "id": "78bb2a28",
   "metadata": {},
   "source": [
    "## Data preprocessing classes\n",
    "\n",
    "Missing values and outliers"
   ]
  },
  {
   "cell_type": "code",
   "execution_count": 47,
   "id": "21342544",
   "metadata": {},
   "outputs": [],
   "source": [
    "class DataPreprocessing:\n",
    "    \n",
    "    def __init__(self):\n",
    "        self.medians=None\n",
    "        self.modes = None\n",
    "        \n",
    "        \n",
    "    def fit(self, X):\n",
    "        \"\"\"Сохранение статистик\"\"\" \n",
    "        X = X.copy()\n",
    "        # Расчет медиан и мод\n",
    "        self.medians = X.median()\n",
    "        self.modes = X.mode().loc[0]\n",
    "                \n",
    "    def transform(self, X):\n",
    "        \n",
    "        #Outliers\n",
    "        \n",
    "        #credit score\n",
    "        \n",
    "        X.loc[train_df['Credit Score'] > 1000, 'Credit Score'] = X.loc[X['Credit Score'] > 1000, \n",
    "                                                                                     'Credit Score'] / 10\n",
    "        \n",
    "        X['Credit Score'].fillna(self.medians['Credit Score'], inplace = True)\n",
    "        \n",
    "        \n",
    "        \n",
    "        #Current Loan Amount\n",
    "        \n",
    "        X.loc[X['Current Loan Amount'] == 99999999.0, 'Current Loan Amount'] = self.medians['Current Loan Amount']\n",
    "        \n",
    "        \n",
    "        \n",
    "        #Maximum Open Credit\n",
    "        \n",
    "        condition = X['Current Loan Amount'] > X['Maximum Open Credit']\n",
    "        X.loc[condition, 'Maximum Open Credit'] = X['Current Loan Amount']\n",
    "        condition2 = X['Maximum Open Credit'] > 99999999.0\n",
    "        X.loc[condition2, 'Maximum Open Credit'] = self.medians['Maximum Open Credit']\n",
    "        \n",
    "        \n",
    "        \n",
    "        \n",
    "        #Missing Values\n",
    "        \n",
    "        #Annual Income\n",
    "    \n",
    "        X.loc[X['Annual Income'].isnull(), 'Annual Income'] = self.medians['Annual Income']\n",
    "        \n",
    "        \n",
    "        \n",
    "        \n",
    "        #Years in current job\n",
    "        \n",
    "        \n",
    "        X['Years in current job'].fillna(self.modes['Years in current job'], inplace = True)\n",
    "        \n",
    "        \n",
    "        \n",
    "        #Months since last delinquent\n",
    "        X['Months since last delinquent'].fillna(-999, inplace=True)\n",
    "        \n",
    "        \n",
    "        \n",
    "        #Bankruptcies\n",
    "        X['Bankruptcies'].fillna(self.medians['Bankruptcies'], inplace = True)\n",
    "        \n",
    "        \n",
    "        \n",
    "        #Credit Score\n",
    "        \n",
    "        X['Credit Score'].fillna(self.medians['Credit Score'], inplace = True)\n",
    "        \n",
    "        X.fillna(self.medians, inplace=True)\n",
    "        \n",
    "        return X\n",
    "        \n",
    "        \n",
    "        "
   ]
  },
  {
   "cell_type": "markdown",
   "id": "4b74fa71",
   "metadata": {},
   "source": [
    "## New feature genereation\n",
    "\n"
   ]
  },
  {
   "cell_type": "code",
   "execution_count": 48,
   "id": "578c830d",
   "metadata": {},
   "outputs": [],
   "source": [
    "class FeatureGenetator():\n",
    "    \"\"\"Генерация новых фич\"\"\"\n",
    "    def __init__(self):\n",
    "        self.bins = None\n",
    "        self.credit_bins = None\n",
    "        self.medians=None\n",
    "        self.modes = None \n",
    "        self.labels = None\n",
    "        \n",
    "    \n",
    "    \n",
    "    def fit(self, X, y=None):\n",
    "        X = X.copy()\n",
    "        self.labels = ['small', 'medium', 'big','very big']\n",
    "        X['Annual_cut'] = pd.qcut(X['Annual Income'], \n",
    "                                 q = [0, .2, .4, .6, .8, 1.], labels=self.labels, duplicates='drop')\n",
    "        self.bins = [X.loc[X['Annual_cut'] == 'small', 'Annual Income'].min(),\n",
    "                X.loc[X['Annual_cut'] == 'small', 'Annual Income'].max(),\n",
    "                X.loc[X['Annual_cut'] == 'medium', 'Annual Income'].max(),\n",
    "                X.loc[X['Annual_cut'] == 'big', 'Annual Income'].max(),\n",
    "                X.loc[X['Annual_cut'] == 'very big', 'Annual Income'].max()\n",
    "               ]\n",
    "        \n",
    "        self.credit_bins = [300, 579, 669, 739, 799, 850]  \n",
    "        self.modes = X.mode().loc[0]\n",
    "        self.labels = ['small', 'medium', 'big','very big']\n",
    "                \n",
    "    def transform(self, X):\n",
    "        \n",
    "        \n",
    "        #Annual_cut\n",
    "        \n",
    " \n",
    "        X['Annual_cut'] = pd.cut(X['Annual Income'], bins = self.bins, labels=self.labels, duplicates='drop')\n",
    "        \n",
    "        X['Annual_cut'].fillna(self.modes['Annual_cut'], inplace = True)\n",
    "        \n",
    "          \n",
    "        #Home Ownership\n",
    "        \n",
    "        X.loc[X['Home Ownership'] == 'Have Mortgage', 'Home Ownership'] = 'Home Mortgage'\n",
    "        \n",
    "        X['Years range'] = X['Years in current job'].map({'< 1 year':0, \n",
    "                                                                       '1 year':0, \n",
    "                                                                       '2 years':0, \n",
    "                                                                       '3 years':0, \n",
    "                                                                       '4 years':1, \n",
    "                                                                       '5 years':1, \n",
    "                                                                       '6 years':1, \n",
    "                                                                       '7 years':2,\n",
    "                                                                       '8 years':2,\n",
    "                                                                       '9 years':2,\n",
    "                                                                       '10+ years':3})\n",
    "        \n",
    "        \n",
    "#         X['Credit Score Cat'] = pd.cut(X['Credit Score'], bins=self.credit_bins, \n",
    "#                                    labels=['poor','fair', 'good' , 'very good','excellent'])\n",
    "        \n",
    "        \n",
    "        \n",
    "        return X\n",
    "\n",
    "#         train_df.loc[train_df['Years range'] == 0, 'Years range'] = '0-3'\n",
    "#         train_df.loc[train_df['Years range'] == 1, 'Years range'] = '4-6'\n",
    "#         train_df.loc[train_df['Years range'] == 2, 'Years range'] = '7-9'\n",
    "#         train_df.loc[train_df['Years range'] == 3, 'Years range'] = '>10'"
   ]
  },
  {
   "cell_type": "markdown",
   "id": "b8b0e1f2",
   "metadata": {},
   "source": [
    "### Загрузка данных"
   ]
  },
  {
   "cell_type": "code",
   "execution_count": 161,
   "id": "418af5c5",
   "metadata": {},
   "outputs": [],
   "source": [
    "train_dataset_path = '/Users/sergeismolnikov/Desktop/ML/GeekBrains/gb_ml_lib2/course_project_train.csv'\n",
    "test_dataset_path = '/Users/sergeismolnikov/Desktop/ML/GeekBrains/gb_ml_lib2/course_project_test.csv'\n",
    "\n"
   ]
  },
  {
   "cell_type": "markdown",
   "id": "19408ad7",
   "metadata": {},
   "source": [
    "### Отбор признаков"
   ]
  },
  {
   "cell_type": "code",
   "execution_count": 162,
   "id": "745a8847",
   "metadata": {},
   "outputs": [],
   "source": [
    "feature_names_new = [\n",
    "                     'Annual_cut',\n",
    "#                      'Credit Score Cat',\n",
    "                     'Years range']"
   ]
  },
  {
   "cell_type": "code",
   "execution_count": 163,
   "id": "39e03bce",
   "metadata": {},
   "outputs": [],
   "source": [
    "feature_names= ['Home Ownership',\n",
    "                     'Annual Income',\n",
    "                     'Years in current job',\n",
    "                     'Tax Liens',\n",
    "                     'Number of Open Accounts',\n",
    "                     'Years of Credit History',\n",
    "                     'Maximum Open Credit',\n",
    "                     'Number of Credit Problems',\n",
    "                     'Months since last delinquent',\n",
    "                     'Bankruptcies',\n",
    "                     'Purpose',\n",
    "                     'Term',\n",
    "                     'Current Loan Amount',\n",
    "                     'Current Credit Balance',\n",
    "                     'Monthly Debt',\n",
    "                     'Credit Score',\n",
    "                     ]"
   ]
  },
  {
   "cell_type": "code",
   "execution_count": 164,
   "id": "02f6d1de",
   "metadata": {},
   "outputs": [
    {
     "data": {
      "text/plain": [
       "18"
      ]
     },
     "execution_count": 164,
     "metadata": {},
     "output_type": "execute_result"
    }
   ],
   "source": [
    "target = 'Credit Default'\n",
    "\n",
    "len(feature_names)+len(feature_names_new)"
   ]
  },
  {
   "cell_type": "markdown",
   "id": "7b54d20f",
   "metadata": {},
   "source": [
    "### Разбиение на train и test"
   ]
  },
  {
   "cell_type": "code",
   "execution_count": 165,
   "id": "9df9b0db",
   "metadata": {},
   "outputs": [],
   "source": [
    "train_df = pd.read_csv(train_dataset_path)\n",
    "test_df = pd.read_csv(test_dataset_path)"
   ]
  },
  {
   "cell_type": "code",
   "execution_count": 166,
   "id": "7d7d2c22",
   "metadata": {},
   "outputs": [],
   "source": [
    "X = train_df.drop(columns=target)\n",
    "y = train_df[target]"
   ]
  },
  {
   "cell_type": "code",
   "execution_count": 167,
   "id": "7cc02e64",
   "metadata": {},
   "outputs": [],
   "source": [
    "X_train, X_valid, y_train, y_valid = train_test_split(X, y, test_size=0.2, shuffle=True, random_state=42)"
   ]
  },
  {
   "cell_type": "code",
   "execution_count": 168,
   "id": "bbb68b77",
   "metadata": {},
   "outputs": [],
   "source": [
    "preprocessor = DataPreprocessing()\n",
    "preprocessor.fit(X_train)  #  fit применяем только к X_train\n",
    "\n",
    "X_train = preprocessor.transform(X_train)\n",
    "X_valid = preprocessor.transform(X_valid)\n",
    "test_df = preprocessor.transform(test_df)"
   ]
  },
  {
   "cell_type": "code",
   "execution_count": 169,
   "id": "2606f562",
   "metadata": {},
   "outputs": [
    {
     "data": {
      "text/plain": [
       "((6000, 16), (1500, 16), (2500, 16))"
      ]
     },
     "execution_count": 169,
     "metadata": {},
     "output_type": "execute_result"
    }
   ],
   "source": [
    "X_train.shape, X_valid.shape, test_df.shape"
   ]
  },
  {
   "cell_type": "code",
   "execution_count": 170,
   "id": "7b601689",
   "metadata": {},
   "outputs": [],
   "source": [
    "features_gen = FeatureGenetator()\n",
    "features_gen.fit(X_train, y_train)  #  fit применяем только к X_train, y_train\n",
    "\n",
    "X_train = features_gen.transform(X_train)\n",
    "X_valid = features_gen.transform(X_valid)\n",
    "test_df = features_gen.transform(test_df)"
   ]
  },
  {
   "cell_type": "code",
   "execution_count": 171,
   "id": "c6cd93f6",
   "metadata": {},
   "outputs": [
    {
     "data": {
      "text/plain": [
       "((6000, 19), (1500, 19), (2500, 19))"
      ]
     },
     "execution_count": 171,
     "metadata": {},
     "output_type": "execute_result"
    }
   ],
   "source": [
    "X_train.shape, X_valid.shape, test_df.shape"
   ]
  },
  {
   "cell_type": "code",
   "execution_count": 172,
   "id": "a9c6f823",
   "metadata": {},
   "outputs": [],
   "source": [
    "X_train = X_train[feature_names + feature_names_new]\n",
    "X_valid = X_valid[feature_names + feature_names_new]\n",
    "test_df = test_df[feature_names + feature_names_new]"
   ]
  },
  {
   "cell_type": "code",
   "execution_count": 173,
   "id": "1380210b",
   "metadata": {},
   "outputs": [
    {
     "data": {
      "text/plain": [
       "((6000, 18), (1500, 18), (2500, 18))"
      ]
     },
     "execution_count": 173,
     "metadata": {},
     "output_type": "execute_result"
    }
   ],
   "source": [
    "X_train.shape, X_valid.shape, test_df.shape"
   ]
  },
  {
   "cell_type": "code",
   "execution_count": 174,
   "id": "d9cfb564",
   "metadata": {},
   "outputs": [
    {
     "data": {
      "text/plain": [
       "Home Ownership                  0\n",
       "Annual Income                   0\n",
       "Years in current job            0\n",
       "Tax Liens                       0\n",
       "Number of Open Accounts         0\n",
       "Years of Credit History         0\n",
       "Maximum Open Credit             0\n",
       "Number of Credit Problems       0\n",
       "Months since last delinquent    0\n",
       "Bankruptcies                    0\n",
       "Purpose                         0\n",
       "Term                            0\n",
       "Current Loan Amount             0\n",
       "Current Credit Balance          0\n",
       "Monthly Debt                    0\n",
       "Credit Score                    0\n",
       "Annual_cut                      0\n",
       "Years range                     0\n",
       "dtype: int64"
      ]
     },
     "execution_count": 174,
     "metadata": {},
     "output_type": "execute_result"
    }
   ],
   "source": [
    "test_df.isna().sum()"
   ]
  },
  {
   "cell_type": "code",
   "execution_count": 175,
   "id": "e16c57c9",
   "metadata": {},
   "outputs": [
    {
     "data": {
      "text/plain": [
       "(0, 0, 0)"
      ]
     },
     "execution_count": 175,
     "metadata": {},
     "output_type": "execute_result"
    }
   ],
   "source": [
    "X_train.isna().sum().sum(), X_valid.isna().sum().sum(), test_df.isna().sum().sum()"
   ]
  },
  {
   "cell_type": "code",
   "execution_count": 176,
   "id": "b68a7d20",
   "metadata": {},
   "outputs": [
    {
     "data": {
      "text/plain": [
       "2.588516746411483"
      ]
     },
     "execution_count": 176,
     "metadata": {},
     "output_type": "execute_result"
    }
   ],
   "source": [
    "disbalance = y_train.value_counts()[0] / y_train.value_counts()[1]\n",
    "disbalance"
   ]
  },
  {
   "cell_type": "code",
   "execution_count": 177,
   "id": "40a78a52",
   "metadata": {},
   "outputs": [],
   "source": [
    "from sklearn.metrics import make_scorer, accuracy_score"
   ]
  },
  {
   "cell_type": "code",
   "execution_count": 133,
   "id": "8d6c7aae",
   "metadata": {},
   "outputs": [],
   "source": [
    "# clf = CatBoostClassifier()\n",
    "# params = {'iterations': [500],\n",
    "#           'depth': [4, 5, 6],\n",
    "#           'loss_function': ['Logloss', 'CrossEntropy'],\n",
    "#           'l2_leaf_reg': np.logspace(-20, -19, 3),\n",
    "#           'leaf_estimation_iterations': [10],\n",
    "# #           'eval_metric': ['Accuracy'],\n",
    "# #           'use_best_model': ['True'],\n",
    "#           'logging_level':['Silent'],\n",
    "#           'random_seed': [42]\n",
    "#          }\n",
    "# scorer = make_scorer(accuracy_score)\n",
    "# clf_grid = GridSearchCV(estimator=clf, param_grid=params, scoring=scorer, cv=5)"
   ]
  },
  {
   "cell_type": "code",
   "execution_count": 179,
   "id": "f009ca08",
   "metadata": {},
   "outputs": [
    {
     "data": {
      "text/html": [
       "<div>\n",
       "<style scoped>\n",
       "    .dataframe tbody tr th:only-of-type {\n",
       "        vertical-align: middle;\n",
       "    }\n",
       "\n",
       "    .dataframe tbody tr th {\n",
       "        vertical-align: top;\n",
       "    }\n",
       "\n",
       "    .dataframe thead th {\n",
       "        text-align: right;\n",
       "    }\n",
       "</style>\n",
       "<table border=\"1\" class=\"dataframe\">\n",
       "  <thead>\n",
       "    <tr style=\"text-align: right;\">\n",
       "      <th></th>\n",
       "      <th>Home Ownership</th>\n",
       "      <th>Annual Income</th>\n",
       "      <th>Years in current job</th>\n",
       "      <th>Tax Liens</th>\n",
       "      <th>Number of Open Accounts</th>\n",
       "      <th>Years of Credit History</th>\n",
       "      <th>Maximum Open Credit</th>\n",
       "      <th>Number of Credit Problems</th>\n",
       "      <th>Months since last delinquent</th>\n",
       "      <th>Bankruptcies</th>\n",
       "      <th>Purpose</th>\n",
       "      <th>Term</th>\n",
       "      <th>Current Loan Amount</th>\n",
       "      <th>Current Credit Balance</th>\n",
       "      <th>Monthly Debt</th>\n",
       "      <th>Credit Score</th>\n",
       "      <th>Annual_cut</th>\n",
       "      <th>Years range</th>\n",
       "    </tr>\n",
       "  </thead>\n",
       "  <tbody>\n",
       "    <tr>\n",
       "      <th>4664</th>\n",
       "      <td>2</td>\n",
       "      <td>4234</td>\n",
       "      <td>10</td>\n",
       "      <td>0</td>\n",
       "      <td>8</td>\n",
       "      <td>158</td>\n",
       "      <td>2429</td>\n",
       "      <td>0</td>\n",
       "      <td>78</td>\n",
       "      <td>0</td>\n",
       "      <td>3</td>\n",
       "      <td>1</td>\n",
       "      <td>3219</td>\n",
       "      <td>2100</td>\n",
       "      <td>4430</td>\n",
       "      <td>155</td>\n",
       "      <td>3</td>\n",
       "      <td>0</td>\n",
       "    </tr>\n",
       "    <tr>\n",
       "      <th>4411</th>\n",
       "      <td>2</td>\n",
       "      <td>105</td>\n",
       "      <td>10</td>\n",
       "      <td>0</td>\n",
       "      <td>3</td>\n",
       "      <td>81</td>\n",
       "      <td>1152</td>\n",
       "      <td>0</td>\n",
       "      <td>15</td>\n",
       "      <td>0</td>\n",
       "      <td>3</td>\n",
       "      <td>1</td>\n",
       "      <td>2476</td>\n",
       "      <td>20</td>\n",
       "      <td>1228</td>\n",
       "      <td>139</td>\n",
       "      <td>2</td>\n",
       "      <td>0</td>\n",
       "    </tr>\n",
       "    <tr>\n",
       "      <th>7448</th>\n",
       "      <td>2</td>\n",
       "      <td>1905</td>\n",
       "      <td>8</td>\n",
       "      <td>0</td>\n",
       "      <td>10</td>\n",
       "      <td>199</td>\n",
       "      <td>2929</td>\n",
       "      <td>1</td>\n",
       "      <td>0</td>\n",
       "      <td>1</td>\n",
       "      <td>3</td>\n",
       "      <td>1</td>\n",
       "      <td>1765</td>\n",
       "      <td>2410</td>\n",
       "      <td>2358</td>\n",
       "      <td>144</td>\n",
       "      <td>1</td>\n",
       "      <td>2</td>\n",
       "    </tr>\n",
       "    <tr>\n",
       "      <th>1919</th>\n",
       "      <td>0</td>\n",
       "      <td>2951</td>\n",
       "      <td>7</td>\n",
       "      <td>0</td>\n",
       "      <td>14</td>\n",
       "      <td>115</td>\n",
       "      <td>1827</td>\n",
       "      <td>0</td>\n",
       "      <td>16</td>\n",
       "      <td>0</td>\n",
       "      <td>3</td>\n",
       "      <td>1</td>\n",
       "      <td>2476</td>\n",
       "      <td>2325</td>\n",
       "      <td>3638</td>\n",
       "      <td>126</td>\n",
       "      <td>0</td>\n",
       "      <td>2</td>\n",
       "    </tr>\n",
       "    <tr>\n",
       "      <th>1298</th>\n",
       "      <td>0</td>\n",
       "      <td>4029</td>\n",
       "      <td>1</td>\n",
       "      <td>0</td>\n",
       "      <td>17</td>\n",
       "      <td>274</td>\n",
       "      <td>4290</td>\n",
       "      <td>0</td>\n",
       "      <td>42</td>\n",
       "      <td>0</td>\n",
       "      <td>3</td>\n",
       "      <td>1</td>\n",
       "      <td>2559</td>\n",
       "      <td>4933</td>\n",
       "      <td>5401</td>\n",
       "      <td>121</td>\n",
       "      <td>3</td>\n",
       "      <td>3</td>\n",
       "    </tr>\n",
       "  </tbody>\n",
       "</table>\n",
       "</div>"
      ],
      "text/plain": [
       "      Home Ownership  Annual Income  Years in current job  Tax Liens  \\\n",
       "4664               2           4234                    10          0   \n",
       "4411               2            105                    10          0   \n",
       "7448               2           1905                     8          0   \n",
       "1919               0           2951                     7          0   \n",
       "1298               0           4029                     1          0   \n",
       "\n",
       "      Number of Open Accounts  Years of Credit History  Maximum Open Credit  \\\n",
       "4664                        8                      158                 2429   \n",
       "4411                        3                       81                 1152   \n",
       "7448                       10                      199                 2929   \n",
       "1919                       14                      115                 1827   \n",
       "1298                       17                      274                 4290   \n",
       "\n",
       "      Number of Credit Problems  Months since last delinquent  Bankruptcies  \\\n",
       "4664                          0                            78             0   \n",
       "4411                          0                            15             0   \n",
       "7448                          1                             0             1   \n",
       "1919                          0                            16             0   \n",
       "1298                          0                            42             0   \n",
       "\n",
       "      Purpose  Term  Current Loan Amount  Current Credit Balance  \\\n",
       "4664        3     1                 3219                    2100   \n",
       "4411        3     1                 2476                      20   \n",
       "7448        3     1                 1765                    2410   \n",
       "1919        3     1                 2476                    2325   \n",
       "1298        3     1                 2559                    4933   \n",
       "\n",
       "      Monthly Debt  Credit Score  Annual_cut  Years range  \n",
       "4664          4430           155           3            0  \n",
       "4411          1228           139           2            0  \n",
       "7448          2358           144           1            2  \n",
       "1919          3638           126           0            2  \n",
       "1298          5401           121           3            3  "
      ]
     },
     "execution_count": 179,
     "metadata": {},
     "output_type": "execute_result"
    }
   ],
   "source": [
    "X_train_enc = X_train.apply(LabelEncoder().fit_transform)\n",
    "X_train_enc.head()"
   ]
  },
  {
   "cell_type": "code",
   "execution_count": 180,
   "id": "3c264cac",
   "metadata": {},
   "outputs": [],
   "source": [
    "# clf_grid.fit(X_train, y_train)\n",
    "# best_param = clf_grid.best_params_\n",
    "# best_param"
   ]
  },
  {
   "cell_type": "code",
   "execution_count": 181,
   "id": "8433031e",
   "metadata": {},
   "outputs": [],
   "source": [
    "model = CatBoostClassifier(iterations=1000,\n",
    "                           loss_function=best_param['loss_function'],\n",
    "                           depth=best_param['depth'],\n",
    "                           l2_leaf_reg=best_param['l2_leaf_reg'],\n",
    "                           eval_metric='Accuracy',\n",
    "                           class_weights=[1, disbalance],\n",
    "                           leaf_estimation_iterations=10,\n",
    "                           use_best_model=True,\n",
    "                           logging_level='Silent',\n",
    "                           random_seed=42\n",
    "                          )"
   ]
  },
  {
   "cell_type": "code",
   "execution_count": 182,
   "id": "d60cbd38",
   "metadata": {},
   "outputs": [],
   "source": [
    "cate_features_index = np.where(X_train.dtypes != float)[0]\n",
    "cate_features_index\n",
    "# create a training pool for the model to fit\n",
    "train_pool = Pool(X_train, y_train, cat_features=cate_features_index)"
   ]
  },
  {
   "cell_type": "code",
   "execution_count": 183,
   "id": "ab51b3e8",
   "metadata": {},
   "outputs": [
    {
     "data": {
      "text/plain": [
       "<catboost.core.CatBoostClassifier at 0x12d3ab670>"
      ]
     },
     "execution_count": 183,
     "metadata": {},
     "output_type": "execute_result"
    }
   ],
   "source": [
    "model.fit(train_pool, eval_set=(X_valid,y_valid))"
   ]
  },
  {
   "cell_type": "code",
   "execution_count": 184,
   "id": "cf303752",
   "metadata": {},
   "outputs": [],
   "source": [
    "def evaluate_preds(model, X_train, X_valid, y_train, y_valid):\n",
    "    y_train_pred = model.predict(X_train)\n",
    "    y_valid_pred = model.predict(X_valid)\n",
    "    print(\"TRAIN\\n\", round(f1_score(y_train, y_train_pred), 3))\n",
    "    print(\"TEST\\n\", round(f1_score(y_valid, y_valid_pred), 3))\n",
    "    get_classification_report(y_train, y_train_pred, y_valid, y_valid_pred)"
   ]
  },
  {
   "cell_type": "code",
   "execution_count": 185,
   "id": "2d1fafd0",
   "metadata": {},
   "outputs": [],
   "source": [
    "def get_classification_report(y_train_true, y_train_pred, y_valid_true, y_valid_pred):\n",
    "    print('TRAIN\\n\\n' + classification_report(y_train_true, y_train_pred))\n",
    "    print('VALID\\n\\n' + classification_report(y_valid_true, y_valid_pred))\n",
    "    print('CONFUSION MATRIX\\n')\n",
    "    print(pd.crosstab(y_valid_true, y_valid_pred))"
   ]
  },
  {
   "cell_type": "code",
   "execution_count": 186,
   "id": "47acbd00",
   "metadata": {},
   "outputs": [
    {
     "name": "stdout",
     "output_type": "stream",
     "text": [
      "TRAIN\n",
      " 0.531\n",
      "TEST\n",
      " 0.533\n",
      "TRAIN\n",
      "\n",
      "              precision    recall  f1-score   support\n",
      "\n",
      "           0       0.85      0.61      0.71      4328\n",
      "           1       0.42      0.72      0.53      1672\n",
      "\n",
      "    accuracy                           0.64      6000\n",
      "   macro avg       0.64      0.67      0.62      6000\n",
      "weighted avg       0.73      0.64      0.66      6000\n",
      "\n",
      "VALID\n",
      "\n",
      "              precision    recall  f1-score   support\n",
      "\n",
      "           0       0.83      0.60      0.70      1059\n",
      "           1       0.42      0.72      0.53       441\n",
      "\n",
      "    accuracy                           0.63      1500\n",
      "   macro avg       0.63      0.66      0.61      1500\n",
      "weighted avg       0.71      0.63      0.65      1500\n",
      "\n",
      "CONFUSION MATRIX\n",
      "\n",
      "col_0             0    1\n",
      "Credit Default          \n",
      "0               631  428\n",
      "1               125  316\n"
     ]
    }
   ],
   "source": [
    "evaluate_preds(model, X_train, X_valid, y_train, y_valid)"
   ]
  },
  {
   "cell_type": "code",
   "execution_count": 187,
   "id": "f9b40f25",
   "metadata": {},
   "outputs": [
    {
     "data": {
      "text/html": [
       "<div>\n",
       "<style scoped>\n",
       "    .dataframe tbody tr th:only-of-type {\n",
       "        vertical-align: middle;\n",
       "    }\n",
       "\n",
       "    .dataframe tbody tr th {\n",
       "        vertical-align: top;\n",
       "    }\n",
       "\n",
       "    .dataframe thead th {\n",
       "        text-align: right;\n",
       "    }\n",
       "</style>\n",
       "<table border=\"1\" class=\"dataframe\">\n",
       "  <thead>\n",
       "    <tr style=\"text-align: right;\">\n",
       "      <th></th>\n",
       "      <th>feature_name</th>\n",
       "      <th>importance</th>\n",
       "    </tr>\n",
       "  </thead>\n",
       "  <tbody>\n",
       "    <tr>\n",
       "      <th>12</th>\n",
       "      <td>Current Loan Amount</td>\n",
       "      <td>60.134409</td>\n",
       "    </tr>\n",
       "    <tr>\n",
       "      <th>15</th>\n",
       "      <td>Credit Score</td>\n",
       "      <td>5.293981</td>\n",
       "    </tr>\n",
       "    <tr>\n",
       "      <th>1</th>\n",
       "      <td>Annual Income</td>\n",
       "      <td>5.154597</td>\n",
       "    </tr>\n",
       "    <tr>\n",
       "      <th>11</th>\n",
       "      <td>Term</td>\n",
       "      <td>3.195528</td>\n",
       "    </tr>\n",
       "    <tr>\n",
       "      <th>16</th>\n",
       "      <td>Annual_cut</td>\n",
       "      <td>3.028149</td>\n",
       "    </tr>\n",
       "    <tr>\n",
       "      <th>6</th>\n",
       "      <td>Maximum Open Credit</td>\n",
       "      <td>2.674274</td>\n",
       "    </tr>\n",
       "    <tr>\n",
       "      <th>17</th>\n",
       "      <td>Years range</td>\n",
       "      <td>2.607118</td>\n",
       "    </tr>\n",
       "    <tr>\n",
       "      <th>2</th>\n",
       "      <td>Years in current job</td>\n",
       "      <td>2.564916</td>\n",
       "    </tr>\n",
       "    <tr>\n",
       "      <th>0</th>\n",
       "      <td>Home Ownership</td>\n",
       "      <td>2.527539</td>\n",
       "    </tr>\n",
       "    <tr>\n",
       "      <th>14</th>\n",
       "      <td>Monthly Debt</td>\n",
       "      <td>2.220496</td>\n",
       "    </tr>\n",
       "    <tr>\n",
       "      <th>10</th>\n",
       "      <td>Purpose</td>\n",
       "      <td>2.195699</td>\n",
       "    </tr>\n",
       "    <tr>\n",
       "      <th>9</th>\n",
       "      <td>Bankruptcies</td>\n",
       "      <td>2.159082</td>\n",
       "    </tr>\n",
       "    <tr>\n",
       "      <th>7</th>\n",
       "      <td>Number of Credit Problems</td>\n",
       "      <td>1.853711</td>\n",
       "    </tr>\n",
       "    <tr>\n",
       "      <th>4</th>\n",
       "      <td>Number of Open Accounts</td>\n",
       "      <td>1.443345</td>\n",
       "    </tr>\n",
       "    <tr>\n",
       "      <th>5</th>\n",
       "      <td>Years of Credit History</td>\n",
       "      <td>1.057655</td>\n",
       "    </tr>\n",
       "    <tr>\n",
       "      <th>8</th>\n",
       "      <td>Months since last delinquent</td>\n",
       "      <td>0.689236</td>\n",
       "    </tr>\n",
       "    <tr>\n",
       "      <th>13</th>\n",
       "      <td>Current Credit Balance</td>\n",
       "      <td>0.612465</td>\n",
       "    </tr>\n",
       "    <tr>\n",
       "      <th>3</th>\n",
       "      <td>Tax Liens</td>\n",
       "      <td>0.587799</td>\n",
       "    </tr>\n",
       "  </tbody>\n",
       "</table>\n",
       "</div>"
      ],
      "text/plain": [
       "                    feature_name  importance\n",
       "12           Current Loan Amount   60.134409\n",
       "15                  Credit Score    5.293981\n",
       "1                  Annual Income    5.154597\n",
       "11                          Term    3.195528\n",
       "16                    Annual_cut    3.028149\n",
       "6            Maximum Open Credit    2.674274\n",
       "17                   Years range    2.607118\n",
       "2           Years in current job    2.564916\n",
       "0                 Home Ownership    2.527539\n",
       "14                  Monthly Debt    2.220496\n",
       "10                       Purpose    2.195699\n",
       "9                   Bankruptcies    2.159082\n",
       "7      Number of Credit Problems    1.853711\n",
       "4        Number of Open Accounts    1.443345\n",
       "5        Years of Credit History    1.057655\n",
       "8   Months since last delinquent    0.689236\n",
       "13        Current Credit Balance    0.612465\n",
       "3                      Tax Liens    0.587799"
      ]
     },
     "execution_count": 187,
     "metadata": {},
     "output_type": "execute_result"
    }
   ],
   "source": [
    "feature_importances = pd.DataFrame(zip(X_train.columns, model.feature_importances_), \n",
    "                                   columns=['feature_name', 'importance'])\n",
    "\n",
    "feature_importances.sort_values(by='importance', ascending=False)"
   ]
  },
  {
   "cell_type": "code",
   "execution_count": null,
   "id": "7ff0c951",
   "metadata": {},
   "outputs": [],
   "source": []
  },
  {
   "cell_type": "code",
   "execution_count": null,
   "id": "52bd2a5a",
   "metadata": {},
   "outputs": [],
   "source": []
  },
  {
   "cell_type": "code",
   "execution_count": null,
   "id": "b1d54881",
   "metadata": {},
   "outputs": [],
   "source": []
  },
  {
   "cell_type": "code",
   "execution_count": 141,
   "id": "3ae85169",
   "metadata": {},
   "outputs": [
    {
     "data": {
      "image/png": "[encoded data removed]",
      "text/plain": [
       "<Figure size 1080x720 with 2 Axes>"
      ]
     },
     "metadata": {
      "needs_background": "light"
     },
     "output_type": "display_data"
    }
   ],
   "source": [
    "plt.figure(figsize = (15,10))\n",
    "\n",
    "sns.set(font_scale=1.4)\n",
    "\n",
    "a = ['pearson','spearman']\n",
    "corr_matrix = train_df.corr(method=a[1])\n",
    "corr_matrix = np.round(corr_matrix, 2)\n",
    "corr_matrix[np.abs(corr_matrix) < 0.3] = 0\n",
    "\n",
    "sns.heatmap(corr_matrix, annot=True, linewidths=.5, cmap='GnBu')\n",
    "\n",
    "plt.title('Correlation matrix')\n",
    "plt.show()"
   ]
  },
  {
   "cell_type": "code",
   "execution_count": 142,
   "id": "dad64f09",
   "metadata": {},
   "outputs": [
    {
     "data": {
      "image/png": "[encoded data removed]",
      "text/plain": [
       "<Figure size 1080x720 with 2 Axes>"
      ]
     },
     "metadata": {},
     "output_type": "display_data"
    }
   ],
   "source": [
    "plt.figure(figsize = (15,10))\n",
    "\n",
    "sns.set(font_scale=1.4)\n",
    "\n",
    "a = ['pearson','spearman']\n",
    "corr_matrix = train_df.corr(method=a[1])\n",
    "corr_matrix = np.round(corr_matrix, 2)\n",
    "corr_matrix[np.abs(corr_matrix) < 0.3] = 0\n",
    "\n",
    "sns.heatmap(corr_matrix, annot=True, linewidths=.5, cmap='GnBu')\n",
    "\n",
    "plt.title('Correlation matrix')\n",
    "plt.show()"
   ]
  },
  {
   "cell_type": "code",
   "execution_count": 237,
   "id": "3894134f",
   "metadata": {},
   "outputs": [],
   "source": [
    "submission = pd.read_csv('/Users/sergeismolnikov/Desktop/ML/GeekBrains/gb_ml_lib2/sample_submission.csv')"
   ]
  },
  {
   "cell_type": "code",
   "execution_count": null,
   "id": "e55e39d4",
   "metadata": {},
   "outputs": [],
   "source": []
  },
  {
   "cell_type": "code",
   "execution_count": 238,
   "id": "39a25171",
   "metadata": {},
   "outputs": [
    {
     "data": {
      "text/plain": [
       "array([1, 1, 0, ..., 0, 0, 0])"
      ]
     },
     "execution_count": 238,
     "metadata": {},
     "output_type": "execute_result"
    }
   ],
   "source": [
    "predictions = model.predict(test_df)\n",
    "predictions"
   ]
  },
  {
   "cell_type": "code",
   "execution_count": 239,
   "id": "ff6e9bf6",
   "metadata": {},
   "outputs": [],
   "source": [
    "submission['Credit Default'] = pd.DataFrame(predictions, columns=['Credit Default'])"
   ]
  },
  {
   "cell_type": "code",
   "execution_count": 244,
   "id": "c01deaaa",
   "metadata": {},
   "outputs": [],
   "source": [
    "submission = submission.set_index('Id', drop = True)"
   ]
  },
  {
   "cell_type": "code",
   "execution_count": null,
   "id": "3a164205",
   "metadata": {},
   "outputs": [],
   "source": []
  },
  {
   "cell_type": "code",
   "execution_count": 233,
   "id": "b441cafb",
   "metadata": {},
   "outputs": [
    {
     "data": {
      "text/html": [
       "<div>\n",
       "<style scoped>\n",
       "    .dataframe tbody tr th:only-of-type {\n",
       "        vertical-align: middle;\n",
       "    }\n",
       "\n",
       "    .dataframe tbody tr th {\n",
       "        vertical-align: top;\n",
       "    }\n",
       "\n",
       "    .dataframe thead th {\n",
       "        text-align: right;\n",
       "    }\n",
       "</style>\n",
       "<table border=\"1\" class=\"dataframe\">\n",
       "  <thead>\n",
       "    <tr style=\"text-align: right;\">\n",
       "      <th></th>\n",
       "      <th>Id</th>\n",
       "      <th>Credit Default</th>\n",
       "    </tr>\n",
       "  </thead>\n",
       "  <tbody>\n",
       "  </tbody>\n",
       "</table>\n",
       "</div>"
      ],
      "text/plain": [
       "Empty DataFrame\n",
       "Columns: [Id, Credit Default]\n",
       "Index: []"
      ]
     },
     "execution_count": 233,
     "metadata": {},
     "output_type": "execute_result"
    }
   ],
   "source": []
  },
  {
   "cell_type": "code",
   "execution_count": 245,
   "id": "bada8d98",
   "metadata": {},
   "outputs": [],
   "source": [
    "submission.to_csv('submit.csv', index=True)"
   ]
  },
  {
   "cell_type": "code",
   "execution_count": null,
   "id": "193e3784",
   "metadata": {},
   "outputs": [],
   "source": []
  }
 ],
 "metadata": {
  "kernelspec": {
   "display_name": "Python 3",
   "language": "python",
   "name": "python3"
  },
  "language_info": {
   "codemirror_mode": {
    "name": "ipython",
    "version": 3
   },
   "file_extension": ".py",
   "mimetype": "text/x-python",
   "name": "python",
   "nbconvert_exporter": "python",
   "pygments_lexer": "ipython3",
   "version": "3.9.5"
  }
 },
 "nbformat": 4,
 "nbformat_minor": 5
}
